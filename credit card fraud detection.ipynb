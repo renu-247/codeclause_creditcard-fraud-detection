{
 "cells": [
  {
   "cell_type": "markdown",
   "id": "6e1e5735",
   "metadata": {
    "papermill": {
     "duration": 0.01511,
     "end_time": "2023-07-09T12:25:22.088687",
     "exception": false,
     "start_time": "2023-07-09T12:25:22.073577",
     "status": "completed"
    },
    "tags": []
   },
   "source": [
    "# Data Preparation"
   ]
  },
  {
   "cell_type": "code",
   "execution_count": 1,
   "id": "2ad3044b",
   "metadata": {
    "execution": {
     "iopub.execute_input": "2023-07-09T12:25:22.120331Z",
     "iopub.status.busy": "2023-07-09T12:25:22.119852Z",
     "iopub.status.idle": "2023-07-09T12:25:22.132124Z",
     "shell.execute_reply": "2023-07-09T12:25:22.130885Z"
    },
    "papermill": {
     "duration": 0.030977,
     "end_time": "2023-07-09T12:25:22.134390",
     "exception": false,
     "start_time": "2023-07-09T12:25:22.103413",
     "status": "completed"
    },
    "tags": []
   },
   "outputs": [],
   "source": [
    "import numpy as np\n",
    "import pandas as pd"
   ]
  },
  {
   "cell_type": "code",
   "execution_count": 2,
   "id": "5c2f0cb3",
   "metadata": {
    "execution": {
     "iopub.execute_input": "2023-07-09T12:25:22.165336Z",
     "iopub.status.busy": "2023-07-09T12:25:22.164880Z",
     "iopub.status.idle": "2023-07-09T12:25:27.578028Z",
     "shell.execute_reply": "2023-07-09T12:25:27.576670Z"
    },
    "papermill": {
     "duration": 5.432379,
     "end_time": "2023-07-09T12:25:27.581262",
     "exception": false,
     "start_time": "2023-07-09T12:25:22.148883",
     "status": "completed"
    },
    "tags": []
   },
   "outputs": [],
   "source": [
    "data= pd.read_csv('/kaggle/input/creditcardfraud/creditcard.csv')"
   ]
  },
  {
   "cell_type": "code",
   "execution_count": 3,
   "id": "4e7ae99c",
   "metadata": {
    "execution": {
     "iopub.execute_input": "2023-07-09T12:25:27.613733Z",
     "iopub.status.busy": "2023-07-09T12:25:27.613268Z",
     "iopub.status.idle": "2023-07-09T12:25:27.669058Z",
     "shell.execute_reply": "2023-07-09T12:25:27.667831Z"
    },
    "papermill": {
     "duration": 0.07558,
     "end_time": "2023-07-09T12:25:27.672267",
     "exception": false,
     "start_time": "2023-07-09T12:25:27.596687",
     "status": "completed"
    },
    "tags": []
   },
   "outputs": [
    {
     "data": {
      "text/html": [
       "<div>\n",
       "<style scoped>\n",
       "    .dataframe tbody tr th:only-of-type {\n",
       "        vertical-align: middle;\n",
       "    }\n",
       "\n",
       "    .dataframe tbody tr th {\n",
       "        vertical-align: top;\n",
       "    }\n",
       "\n",
       "    .dataframe thead th {\n",
       "        text-align: right;\n",
       "    }\n",
       "</style>\n",
       "<table border=\"1\" class=\"dataframe\">\n",
       "  <thead>\n",
       "    <tr style=\"text-align: right;\">\n",
       "      <th></th>\n",
       "      <th>Time</th>\n",
       "      <th>V1</th>\n",
       "      <th>V2</th>\n",
       "      <th>V3</th>\n",
       "      <th>V4</th>\n",
       "      <th>V5</th>\n",
       "      <th>V6</th>\n",
       "      <th>V7</th>\n",
       "      <th>V8</th>\n",
       "      <th>V9</th>\n",
       "      <th>...</th>\n",
       "      <th>V21</th>\n",
       "      <th>V22</th>\n",
       "      <th>V23</th>\n",
       "      <th>V24</th>\n",
       "      <th>V25</th>\n",
       "      <th>V26</th>\n",
       "      <th>V27</th>\n",
       "      <th>V28</th>\n",
       "      <th>Amount</th>\n",
       "      <th>Class</th>\n",
       "    </tr>\n",
       "  </thead>\n",
       "  <tbody>\n",
       "    <tr>\n",
       "      <th>0</th>\n",
       "      <td>0.0</td>\n",
       "      <td>-1.359807</td>\n",
       "      <td>-0.072781</td>\n",
       "      <td>2.536347</td>\n",
       "      <td>1.378155</td>\n",
       "      <td>-0.338321</td>\n",
       "      <td>0.462388</td>\n",
       "      <td>0.239599</td>\n",
       "      <td>0.098698</td>\n",
       "      <td>0.363787</td>\n",
       "      <td>...</td>\n",
       "      <td>-0.018307</td>\n",
       "      <td>0.277838</td>\n",
       "      <td>-0.110474</td>\n",
       "      <td>0.066928</td>\n",
       "      <td>0.128539</td>\n",
       "      <td>-0.189115</td>\n",
       "      <td>0.133558</td>\n",
       "      <td>-0.021053</td>\n",
       "      <td>149.62</td>\n",
       "      <td>0</td>\n",
       "    </tr>\n",
       "    <tr>\n",
       "      <th>1</th>\n",
       "      <td>0.0</td>\n",
       "      <td>1.191857</td>\n",
       "      <td>0.266151</td>\n",
       "      <td>0.166480</td>\n",
       "      <td>0.448154</td>\n",
       "      <td>0.060018</td>\n",
       "      <td>-0.082361</td>\n",
       "      <td>-0.078803</td>\n",
       "      <td>0.085102</td>\n",
       "      <td>-0.255425</td>\n",
       "      <td>...</td>\n",
       "      <td>-0.225775</td>\n",
       "      <td>-0.638672</td>\n",
       "      <td>0.101288</td>\n",
       "      <td>-0.339846</td>\n",
       "      <td>0.167170</td>\n",
       "      <td>0.125895</td>\n",
       "      <td>-0.008983</td>\n",
       "      <td>0.014724</td>\n",
       "      <td>2.69</td>\n",
       "      <td>0</td>\n",
       "    </tr>\n",
       "    <tr>\n",
       "      <th>2</th>\n",
       "      <td>1.0</td>\n",
       "      <td>-1.358354</td>\n",
       "      <td>-1.340163</td>\n",
       "      <td>1.773209</td>\n",
       "      <td>0.379780</td>\n",
       "      <td>-0.503198</td>\n",
       "      <td>1.800499</td>\n",
       "      <td>0.791461</td>\n",
       "      <td>0.247676</td>\n",
       "      <td>-1.514654</td>\n",
       "      <td>...</td>\n",
       "      <td>0.247998</td>\n",
       "      <td>0.771679</td>\n",
       "      <td>0.909412</td>\n",
       "      <td>-0.689281</td>\n",
       "      <td>-0.327642</td>\n",
       "      <td>-0.139097</td>\n",
       "      <td>-0.055353</td>\n",
       "      <td>-0.059752</td>\n",
       "      <td>378.66</td>\n",
       "      <td>0</td>\n",
       "    </tr>\n",
       "  </tbody>\n",
       "</table>\n",
       "<p>3 rows × 31 columns</p>\n",
       "</div>"
      ],
      "text/plain": [
       "   Time        V1        V2        V3        V4        V5        V6        V7  \\\n",
       "0   0.0 -1.359807 -0.072781  2.536347  1.378155 -0.338321  0.462388  0.239599   \n",
       "1   0.0  1.191857  0.266151  0.166480  0.448154  0.060018 -0.082361 -0.078803   \n",
       "2   1.0 -1.358354 -1.340163  1.773209  0.379780 -0.503198  1.800499  0.791461   \n",
       "\n",
       "         V8        V9  ...       V21       V22       V23       V24       V25  \\\n",
       "0  0.098698  0.363787  ... -0.018307  0.277838 -0.110474  0.066928  0.128539   \n",
       "1  0.085102 -0.255425  ... -0.225775 -0.638672  0.101288 -0.339846  0.167170   \n",
       "2  0.247676 -1.514654  ...  0.247998  0.771679  0.909412 -0.689281 -0.327642   \n",
       "\n",
       "        V26       V27       V28  Amount  Class  \n",
       "0 -0.189115  0.133558 -0.021053  149.62      0  \n",
       "1  0.125895 -0.008983  0.014724    2.69      0  \n",
       "2 -0.139097 -0.055353 -0.059752  378.66      0  \n",
       "\n",
       "[3 rows x 31 columns]"
      ]
     },
     "execution_count": 3,
     "metadata": {},
     "output_type": "execute_result"
    }
   ],
   "source": [
    "data.head(3)"
   ]
  },
  {
   "cell_type": "code",
   "execution_count": 4,
   "id": "a178a82b",
   "metadata": {
    "execution": {
     "iopub.execute_input": "2023-07-09T12:25:27.705185Z",
     "iopub.status.busy": "2023-07-09T12:25:27.704764Z",
     "iopub.status.idle": "2023-07-09T12:25:27.715526Z",
     "shell.execute_reply": "2023-07-09T12:25:27.714211Z"
    },
    "papermill": {
     "duration": 0.030094,
     "end_time": "2023-07-09T12:25:27.717968",
     "exception": false,
     "start_time": "2023-07-09T12:25:27.687874",
     "status": "completed"
    },
    "tags": []
   },
   "outputs": [
    {
     "data": {
      "text/plain": [
       "0              0.0\n",
       "1              0.0\n",
       "2              1.0\n",
       "3              1.0\n",
       "4              2.0\n",
       "            ...   \n",
       "284802    172786.0\n",
       "284803    172787.0\n",
       "284804    172788.0\n",
       "284805    172788.0\n",
       "284806    172792.0\n",
       "Name: Time, Length: 284807, dtype: float64"
      ]
     },
     "execution_count": 4,
     "metadata": {},
     "output_type": "execute_result"
    }
   ],
   "source": [
    "data.Time"
   ]
  },
  {
   "cell_type": "code",
   "execution_count": 5,
   "id": "693ce938",
   "metadata": {
    "execution": {
     "iopub.execute_input": "2023-07-09T12:25:27.751162Z",
     "iopub.status.busy": "2023-07-09T12:25:27.750666Z",
     "iopub.status.idle": "2023-07-09T12:25:27.782444Z",
     "shell.execute_reply": "2023-07-09T12:25:27.781520Z"
    },
    "papermill": {
     "duration": 0.051326,
     "end_time": "2023-07-09T12:25:27.785046",
     "exception": false,
     "start_time": "2023-07-09T12:25:27.733720",
     "status": "completed"
    },
    "tags": []
   },
   "outputs": [
    {
     "data": {
      "text/plain": [
       "Time      0\n",
       "V1        0\n",
       "V2        0\n",
       "V3        0\n",
       "V4        0\n",
       "V5        0\n",
       "V6        0\n",
       "V7        0\n",
       "V8        0\n",
       "V9        0\n",
       "V10       0\n",
       "V11       0\n",
       "V12       0\n",
       "V13       0\n",
       "V14       0\n",
       "V15       0\n",
       "V16       0\n",
       "V17       0\n",
       "V18       0\n",
       "V19       0\n",
       "V20       0\n",
       "V21       0\n",
       "V22       0\n",
       "V23       0\n",
       "V24       0\n",
       "V25       0\n",
       "V26       0\n",
       "V27       0\n",
       "V28       0\n",
       "Amount    0\n",
       "Class     0\n",
       "dtype: int64"
      ]
     },
     "execution_count": 5,
     "metadata": {},
     "output_type": "execute_result"
    }
   ],
   "source": [
    "data.isna().sum()"
   ]
  },
  {
   "cell_type": "code",
   "execution_count": 6,
   "id": "58c5b1ec",
   "metadata": {
    "execution": {
     "iopub.execute_input": "2023-07-09T12:25:27.818871Z",
     "iopub.status.busy": "2023-07-09T12:25:27.818129Z",
     "iopub.status.idle": "2023-07-09T12:25:27.832846Z",
     "shell.execute_reply": "2023-07-09T12:25:27.831669Z"
    },
    "papermill": {
     "duration": 0.03428,
     "end_time": "2023-07-09T12:25:27.835208",
     "exception": false,
     "start_time": "2023-07-09T12:25:27.800928",
     "status": "completed"
    },
    "tags": []
   },
   "outputs": [
    {
     "data": {
      "text/plain": [
       "0    284315\n",
       "1       492\n",
       "Name: Class, dtype: int64"
      ]
     },
     "execution_count": 6,
     "metadata": {},
     "output_type": "execute_result"
    }
   ],
   "source": [
    "data.Class.value_counts()"
   ]
  },
  {
   "cell_type": "markdown",
   "id": "19575abc",
   "metadata": {
    "papermill": {
     "duration": 0.018494,
     "end_time": "2023-07-09T12:25:27.870140",
     "exception": false,
     "start_time": "2023-07-09T12:25:27.851646",
     "status": "completed"
    },
    "tags": []
   },
   "source": [
    "So far, no null value and data is imbalanced"
   ]
  },
  {
   "cell_type": "code",
   "execution_count": 7,
   "id": "db61573f",
   "metadata": {
    "execution": {
     "iopub.execute_input": "2023-07-09T12:25:27.911579Z",
     "iopub.status.busy": "2023-07-09T12:25:27.910378Z",
     "iopub.status.idle": "2023-07-09T12:25:29.448423Z",
     "shell.execute_reply": "2023-07-09T12:25:29.447029Z"
    },
    "papermill": {
     "duration": 1.563712,
     "end_time": "2023-07-09T12:25:29.451580",
     "exception": false,
     "start_time": "2023-07-09T12:25:27.887868",
     "status": "completed"
    },
    "tags": []
   },
   "outputs": [],
   "source": [
    "from sklearn.preprocessing import RobustScaler\n",
    "\n",
    "rob_scaler = RobustScaler()\n",
    "\n",
    "data['Amount'] = rob_scaler.fit_transform(data['Amount'].values.reshape(-1,1))\n",
    "data['Time'] = rob_scaler.fit_transform(data['Time'].values.reshape(-1,1))"
   ]
  },
  {
   "cell_type": "code",
   "execution_count": 8,
   "id": "9e5222f3",
   "metadata": {
    "execution": {
     "iopub.execute_input": "2023-07-09T12:25:29.486504Z",
     "iopub.status.busy": "2023-07-09T12:25:29.486062Z",
     "iopub.status.idle": "2023-07-09T12:25:29.800271Z",
     "shell.execute_reply": "2023-07-09T12:25:29.798636Z"
    },
    "papermill": {
     "duration": 0.335396,
     "end_time": "2023-07-09T12:25:29.803753",
     "exception": false,
     "start_time": "2023-07-09T12:25:29.468357",
     "status": "completed"
    },
    "tags": []
   },
   "outputs": [],
   "source": [
    "from sklearn.model_selection import train_test_split\n",
    "\n",
    "train, test = train_test_split(data, test_size=0.25, random_state=0)\n",
    "\n",
    "features_train = train.drop(['Class'], axis=1)\n",
    "target_train = train['Class']\n",
    "\n",
    "features_test = test.drop(['Class'], axis=1)\n",
    "target_test = test['Class']"
   ]
  },
  {
   "cell_type": "code",
   "execution_count": 9,
   "id": "0fb7bae4",
   "metadata": {
    "execution": {
     "iopub.execute_input": "2023-07-09T12:25:29.838521Z",
     "iopub.status.busy": "2023-07-09T12:25:29.838083Z",
     "iopub.status.idle": "2023-07-09T12:25:29.846416Z",
     "shell.execute_reply": "2023-07-09T12:25:29.845211Z"
    },
    "papermill": {
     "duration": 0.02887,
     "end_time": "2023-07-09T12:25:29.848921",
     "exception": false,
     "start_time": "2023-07-09T12:25:29.820051",
     "status": "completed"
    },
    "tags": []
   },
   "outputs": [
    {
     "data": {
      "text/plain": [
       "((213605, 30), (213605,), (71202, 30), (71202,))"
      ]
     },
     "execution_count": 9,
     "metadata": {},
     "output_type": "execute_result"
    }
   ],
   "source": [
    "features_train.shape, target_train.shape, features_test.shape, target_test.shape"
   ]
  },
  {
   "cell_type": "markdown",
   "id": "48cbac1b",
   "metadata": {
    "papermill": {
     "duration": 0.015283,
     "end_time": "2023-07-09T12:25:29.880524",
     "exception": false,
     "start_time": "2023-07-09T12:25:29.865241",
     "status": "completed"
    },
    "tags": []
   },
   "source": [
    "# LR"
   ]
  },
  {
   "cell_type": "markdown",
   "id": "4cea169a",
   "metadata": {
    "papermill": {
     "duration": 0.01635,
     "end_time": "2023-07-09T12:25:29.912573",
     "exception": false,
     "start_time": "2023-07-09T12:25:29.896223",
     "status": "completed"
    },
    "tags": []
   },
   "source": [
    "## Using normal data"
   ]
  },
  {
   "cell_type": "code",
   "execution_count": 10,
   "id": "3f6145ab",
   "metadata": {
    "execution": {
     "iopub.execute_input": "2023-07-09T12:25:29.946890Z",
     "iopub.status.busy": "2023-07-09T12:25:29.946158Z",
     "iopub.status.idle": "2023-07-09T12:25:51.094871Z",
     "shell.execute_reply": "2023-07-09T12:25:51.093264Z"
    },
    "papermill": {
     "duration": 21.172313,
     "end_time": "2023-07-09T12:25:51.100730",
     "exception": false,
     "start_time": "2023-07-09T12:25:29.928417",
     "status": "completed"
    },
    "tags": []
   },
   "outputs": [
    {
     "name": "stderr",
     "output_type": "stream",
     "text": [
      "/opt/conda/lib/python3.10/site-packages/sklearn/linear_model/_sag.py:350: ConvergenceWarning: The max_iter was reached which means the coef_ did not converge\n",
      "  warnings.warn(\n"
     ]
    }
   ],
   "source": [
    "from sklearn.linear_model import LogisticRegression\n",
    "\n",
    "lr = LogisticRegression(solver='saga')\n",
    "lr.fit(features_train, target_train)\n",
    "\n",
    "lr_predict = lr.predict(features_test)"
   ]
  },
  {
   "cell_type": "code",
   "execution_count": 11,
   "id": "bf7e3d9e",
   "metadata": {
    "execution": {
     "iopub.execute_input": "2023-07-09T12:25:51.169310Z",
     "iopub.status.busy": "2023-07-09T12:25:51.168603Z",
     "iopub.status.idle": "2023-07-09T12:25:51.227300Z",
     "shell.execute_reply": "2023-07-09T12:25:51.225809Z"
    },
    "papermill": {
     "duration": 0.096082,
     "end_time": "2023-07-09T12:25:51.230019",
     "exception": false,
     "start_time": "2023-07-09T12:25:51.133937",
     "status": "completed"
    },
    "tags": []
   },
   "outputs": [
    {
     "data": {
      "text/plain": [
       "0.6083333333333333"
      ]
     },
     "execution_count": 11,
     "metadata": {},
     "output_type": "execute_result"
    }
   ],
   "source": [
    "from sklearn.metrics import recall_score\n",
    "\n",
    "recall_score(target_test, lr_predict)"
   ]
  },
  {
   "cell_type": "code",
   "execution_count": 12,
   "id": "6390922b",
   "metadata": {
    "execution": {
     "iopub.execute_input": "2023-07-09T12:25:51.263919Z",
     "iopub.status.busy": "2023-07-09T12:25:51.263410Z",
     "iopub.status.idle": "2023-07-09T12:25:51.543084Z",
     "shell.execute_reply": "2023-07-09T12:25:51.542139Z"
    },
    "papermill": {
     "duration": 0.299387,
     "end_time": "2023-07-09T12:25:51.545384",
     "exception": false,
     "start_time": "2023-07-09T12:25:51.245997",
     "status": "completed"
    },
    "tags": []
   },
   "outputs": [
    {
     "data": {
      "image/png": "[encoded data removed]",
      "text/plain": [
       "<Figure size 640x480 with 2 Axes>"
      ]
     },
     "metadata": {},
     "output_type": "display_data"
    }
   ],
   "source": [
    "from sklearn.metrics import confusion_matrix, ConfusionMatrixDisplay\n",
    "import matplotlib.pyplot as plt\n",
    "\n",
    "conf = confusion_matrix(target_test, lr_predict)\n",
    "\n",
    "cm_display = ConfusionMatrixDisplay(confusion_matrix = conf, display_labels = [False, True])\n",
    "\n",
    "cm_display.plot()\n",
    "plt.show() "
   ]
  },
  {
   "cell_type": "code",
   "execution_count": 13,
   "id": "2b7f9453",
   "metadata": {
    "execution": {
     "iopub.execute_input": "2023-07-09T12:25:51.580600Z",
     "iopub.status.busy": "2023-07-09T12:25:51.579861Z",
     "iopub.status.idle": "2023-07-09T12:25:58.441956Z",
     "shell.execute_reply": "2023-07-09T12:25:58.439762Z"
    },
    "papermill": {
     "duration": 6.885142,
     "end_time": "2023-07-09T12:25:58.446884",
     "exception": false,
     "start_time": "2023-07-09T12:25:51.561742",
     "status": "completed"
    },
    "tags": []
   },
   "outputs": [],
   "source": [
    "# using another solver\n",
    "\n",
    "lr = LogisticRegression(solver='liblinear')\n",
    "lr.fit(features_train, target_train)\n",
    "\n",
    "lr_predict = lr.predict(features_test)"
   ]
  },
  {
   "cell_type": "code",
   "execution_count": 14,
   "id": "0bf3af31",
   "metadata": {
    "execution": {
     "iopub.execute_input": "2023-07-09T12:25:58.520642Z",
     "iopub.status.busy": "2023-07-09T12:25:58.519628Z",
     "iopub.status.idle": "2023-07-09T12:25:58.572231Z",
     "shell.execute_reply": "2023-07-09T12:25:58.571322Z"
    },
    "papermill": {
     "duration": 0.090916,
     "end_time": "2023-07-09T12:25:58.574522",
     "exception": false,
     "start_time": "2023-07-09T12:25:58.483606",
     "status": "completed"
    },
    "tags": []
   },
   "outputs": [
    {
     "data": {
      "text/plain": [
       "0.6583333333333333"
      ]
     },
     "execution_count": 14,
     "metadata": {},
     "output_type": "execute_result"
    }
   ],
   "source": [
    "recall_score(target_test, lr_predict)"
   ]
  },
  {
   "cell_type": "code",
   "execution_count": 15,
   "id": "78c6414b",
   "metadata": {
    "execution": {
     "iopub.execute_input": "2023-07-09T12:25:58.610456Z",
     "iopub.status.busy": "2023-07-09T12:25:58.609758Z",
     "iopub.status.idle": "2023-07-09T12:25:58.912468Z",
     "shell.execute_reply": "2023-07-09T12:25:58.911335Z"
    },
    "papermill": {
     "duration": 0.323699,
     "end_time": "2023-07-09T12:25:58.915033",
     "exception": false,
     "start_time": "2023-07-09T12:25:58.591334",
     "status": "completed"
    },
    "tags": []
   },
   "outputs": [
    {
     "data": {
      "image/png": "[encoded data removed]",
      "text/plain": [
       "<Figure size 640x480 with 2 Axes>"
      ]
     },
     "metadata": {},
     "output_type": "display_data"
    }
   ],
   "source": [
    "from sklearn.metrics import confusion_matrix, ConfusionMatrixDisplay\n",
    "import matplotlib.pyplot as plt\n",
    "\n",
    "conf = confusion_matrix(target_test, lr_predict)\n",
    "\n",
    "cm_display = ConfusionMatrixDisplay(confusion_matrix = conf, display_labels = [False, True])\n",
    "\n",
    "cm_display.plot()\n",
    "plt.show() "
   ]
  },
  {
   "cell_type": "markdown",
   "id": "5f2c6328",
   "metadata": {
    "papermill": {
     "duration": 0.01941,
     "end_time": "2023-07-09T12:25:58.952071",
     "exception": false,
     "start_time": "2023-07-09T12:25:58.932661",
     "status": "completed"
    },
    "tags": []
   },
   "source": [
    "In summary, based on the confusion matrix:\n",
    "\n",
    "- The model correctly predicted the positive class (TP) 71,071 times.\n",
    "- The model correctly predicted the negative class (TN) 79 times.\n",
    "- The model incorrectly predicted the positive class (FP) 11 times.\n",
    "- The model incorrectly predicted the negative class (FN) 41 times.\n",
    "\n",
    "With recall score = 0.6583\n",
    "\n",
    "Clearly this is a low score, it is because of the model or the data itself courtesy of data imbalance. We'll try downsample for the next one"
   ]
  },
  {
   "cell_type": "markdown",
   "id": "879c5ef7",
   "metadata": {
    "papermill": {
     "duration": 0.016974,
     "end_time": "2023-07-09T12:25:58.987144",
     "exception": false,
     "start_time": "2023-07-09T12:25:58.970170",
     "status": "completed"
    },
    "tags": []
   },
   "source": [
    "## Using downsampled data"
   ]
  },
  {
   "cell_type": "code",
   "execution_count": 16,
   "id": "22c27fa9",
   "metadata": {
    "execution": {
     "iopub.execute_input": "2023-07-09T12:25:59.029921Z",
     "iopub.status.busy": "2023-07-09T12:25:59.029242Z",
     "iopub.status.idle": "2023-07-09T12:25:59.092987Z",
     "shell.execute_reply": "2023-07-09T12:25:59.091726Z"
    },
    "papermill": {
     "duration": 0.090233,
     "end_time": "2023-07-09T12:25:59.095636",
     "exception": false,
     "start_time": "2023-07-09T12:25:59.005403",
     "status": "completed"
    },
    "tags": []
   },
   "outputs": [
    {
     "data": {
      "text/plain": [
       "(1    492\n",
       " Name: Class, dtype: int64,\n",
       " 0    284315\n",
       " Name: Class, dtype: int64)"
      ]
     },
     "execution_count": 16,
     "metadata": {},
     "output_type": "execute_result"
    }
   ],
   "source": [
    "# try downsample to fix the data imbalance\n",
    "\n",
    "fraud = data[data['Class'] == 1]\n",
    "non_fraud = data[data['Class'] == 0]\n",
    "\n",
    "fraud.Class.value_counts(), non_fraud.Class.value_counts()"
   ]
  },
  {
   "cell_type": "code",
   "execution_count": 17,
   "id": "1d20cd82",
   "metadata": {
    "execution": {
     "iopub.execute_input": "2023-07-09T12:25:59.132304Z",
     "iopub.status.busy": "2023-07-09T12:25:59.131908Z",
     "iopub.status.idle": "2023-07-09T12:25:59.151182Z",
     "shell.execute_reply": "2023-07-09T12:25:59.150291Z"
    },
    "papermill": {
     "duration": 0.040555,
     "end_time": "2023-07-09T12:25:59.153465",
     "exception": false,
     "start_time": "2023-07-09T12:25:59.112910",
     "status": "completed"
    },
    "tags": []
   },
   "outputs": [
    {
     "data": {
      "text/plain": [
       "((984, 31), pandas.core.frame.DataFrame)"
      ]
     },
     "execution_count": 17,
     "metadata": {},
     "output_type": "execute_result"
    }
   ],
   "source": [
    "non_fraud_sample = non_fraud.sample(n=492)\n",
    "\n",
    "down_data = pd.concat([fraud, non_fraud_sample], axis=0)\n",
    "\n",
    "down_data.shape, type(down_data)"
   ]
  },
  {
   "cell_type": "code",
   "execution_count": 18,
   "id": "19ece43a",
   "metadata": {
    "execution": {
     "iopub.execute_input": "2023-07-09T12:25:59.190780Z",
     "iopub.status.busy": "2023-07-09T12:25:59.189945Z",
     "iopub.status.idle": "2023-07-09T12:25:59.199941Z",
     "shell.execute_reply": "2023-07-09T12:25:59.198618Z"
    },
    "papermill": {
     "duration": 0.031848,
     "end_time": "2023-07-09T12:25:59.202725",
     "exception": false,
     "start_time": "2023-07-09T12:25:59.170877",
     "status": "completed"
    },
    "tags": []
   },
   "outputs": [],
   "source": [
    "train_down, test_down = train_test_split(down_data, test_size=0.25, random_state=0)\n",
    "\n",
    "features_train_down = train_down.drop(['Class'], axis=1)\n",
    "target_train_down = train_down['Class']\n",
    "\n",
    "features_test_down = test_down.drop(['Class'], axis=1)\n",
    "target_test_down = test_down['Class']"
   ]
  },
  {
   "cell_type": "code",
   "execution_count": 19,
   "id": "a1d652eb",
   "metadata": {
    "execution": {
     "iopub.execute_input": "2023-07-09T12:25:59.239974Z",
     "iopub.status.busy": "2023-07-09T12:25:59.239512Z",
     "iopub.status.idle": "2023-07-09T12:25:59.248036Z",
     "shell.execute_reply": "2023-07-09T12:25:59.246567Z"
    },
    "papermill": {
     "duration": 0.030883,
     "end_time": "2023-07-09T12:25:59.250963",
     "exception": false,
     "start_time": "2023-07-09T12:25:59.220080",
     "status": "completed"
    },
    "tags": []
   },
   "outputs": [
    {
     "data": {
      "text/plain": [
       "((738, 30), (738,), (246, 30), (246,))"
      ]
     },
     "execution_count": 19,
     "metadata": {},
     "output_type": "execute_result"
    }
   ],
   "source": [
    "features_train_down.shape, target_train_down.shape, features_test_down.shape, target_test_down.shape"
   ]
  },
  {
   "cell_type": "code",
   "execution_count": 20,
   "id": "f48d7a93",
   "metadata": {
    "execution": {
     "iopub.execute_input": "2023-07-09T12:25:59.288790Z",
     "iopub.status.busy": "2023-07-09T12:25:59.288355Z",
     "iopub.status.idle": "2023-07-09T12:25:59.298204Z",
     "shell.execute_reply": "2023-07-09T12:25:59.296873Z"
    },
    "papermill": {
     "duration": 0.031738,
     "end_time": "2023-07-09T12:25:59.300636",
     "exception": false,
     "start_time": "2023-07-09T12:25:59.268898",
     "status": "completed"
    },
    "tags": []
   },
   "outputs": [
    {
     "data": {
      "text/plain": [
       "(0    127\n",
       " 1    119\n",
       " Name: Class, dtype: int64,\n",
       " 1    373\n",
       " 0    365\n",
       " Name: Class, dtype: int64)"
      ]
     },
     "execution_count": 20,
     "metadata": {},
     "output_type": "execute_result"
    }
   ],
   "source": [
    "target_test_down.value_counts(), target_train_down.value_counts()"
   ]
  },
  {
   "cell_type": "code",
   "execution_count": 21,
   "id": "ac4ecefb",
   "metadata": {
    "execution": {
     "iopub.execute_input": "2023-07-09T12:25:59.338774Z",
     "iopub.status.busy": "2023-07-09T12:25:59.338312Z",
     "iopub.status.idle": "2023-07-09T12:25:59.367966Z",
     "shell.execute_reply": "2023-07-09T12:25:59.367057Z"
    },
    "papermill": {
     "duration": 0.051965,
     "end_time": "2023-07-09T12:25:59.370338",
     "exception": false,
     "start_time": "2023-07-09T12:25:59.318373",
     "status": "completed"
    },
    "tags": []
   },
   "outputs": [
    {
     "data": {
      "text/plain": [
       "0.9495798319327731"
      ]
     },
     "execution_count": 21,
     "metadata": {},
     "output_type": "execute_result"
    }
   ],
   "source": [
    "# build model based on downsampled data\n",
    "\n",
    "lr = LogisticRegression(solver='liblinear')\n",
    "lr.fit(features_train_down, target_train_down)\n",
    "\n",
    "lr_predict = lr.predict(features_test_down)\n",
    "recall_score(target_test_down, lr_predict)"
   ]
  },
  {
   "cell_type": "code",
   "execution_count": 22,
   "id": "8adc0c05",
   "metadata": {
    "execution": {
     "iopub.execute_input": "2023-07-09T12:25:59.409751Z",
     "iopub.status.busy": "2023-07-09T12:25:59.409309Z",
     "iopub.status.idle": "2023-07-09T12:25:59.700964Z",
     "shell.execute_reply": "2023-07-09T12:25:59.699577Z"
    },
    "papermill": {
     "duration": 0.313987,
     "end_time": "2023-07-09T12:25:59.703880",
     "exception": false,
     "start_time": "2023-07-09T12:25:59.389893",
     "status": "completed"
    },
    "tags": []
   },
   "outputs": [
    {
     "data": {
      "image/png": "[encoded data removed]",
      "text/plain": [
       "<Figure size 640x480 with 2 Axes>"
      ]
     },
     "metadata": {},
     "output_type": "display_data"
    }
   ],
   "source": [
    "conf = confusion_matrix(target_test_down, lr_predict)\n",
    "\n",
    "cm_display = ConfusionMatrixDisplay(confusion_matrix = conf, display_labels = [False, True])\n",
    "\n",
    "cm_display.plot()\n",
    "plt.show() "
   ]
  },
  {
   "cell_type": "markdown",
   "id": "6eb1c6f8",
   "metadata": {
    "papermill": {
     "duration": 0.017948,
     "end_time": "2023-07-09T12:25:59.740811",
     "exception": false,
     "start_time": "2023-07-09T12:25:59.722863",
     "status": "completed"
    },
    "tags": []
   },
   "source": [
    "In summary, based on the confusion matrix:\n",
    "\n",
    "- The model correctly predicted the positive class (TP) 125 times.\n",
    "- The model correctly predicted the negative class (TN) 112 times.\n",
    "- The model incorrectly predicted the positive class (FP) 2 times.\n",
    "- The model incorrectly predicted the negative class (FN) 7 times.\n",
    "\n",
    "This is way better than the previous model we build with recall score = 0.9411"
   ]
  },
  {
   "cell_type": "markdown",
   "id": "6c627221",
   "metadata": {
    "papermill": {
     "duration": 0.017723,
     "end_time": "2023-07-09T12:25:59.777122",
     "exception": false,
     "start_time": "2023-07-09T12:25:59.759399",
     "status": "completed"
    },
    "tags": []
   },
   "source": [
    "# Random Forest"
   ]
  },
  {
   "cell_type": "markdown",
   "id": "94e2a8bc",
   "metadata": {
    "papermill": {
     "duration": 0.01816,
     "end_time": "2023-07-09T12:25:59.813391",
     "exception": false,
     "start_time": "2023-07-09T12:25:59.795231",
     "status": "completed"
    },
    "tags": []
   },
   "source": [
    "## Using normal data"
   ]
  },
  {
   "cell_type": "code",
   "execution_count": 23,
   "id": "8adf0a3c",
   "metadata": {
    "execution": {
     "iopub.execute_input": "2023-07-09T12:25:59.852789Z",
     "iopub.status.busy": "2023-07-09T12:25:59.852317Z",
     "iopub.status.idle": "2023-07-09T12:29:37.864733Z",
     "shell.execute_reply": "2023-07-09T12:29:37.863068Z"
    },
    "papermill": {
     "duration": 218.061447,
     "end_time": "2023-07-09T12:29:37.893587",
     "exception": false,
     "start_time": "2023-07-09T12:25:59.832140",
     "status": "completed"
    },
    "tags": []
   },
   "outputs": [
    {
     "data": {
      "text/html": [
       "<style>#sk-container-id-1 {color: black;background-color: white;}#sk-container-id-1 pre{padding: 0;}#sk-container-id-1 div.sk-toggleable {background-color: white;}#sk-container-id-1 label.sk-toggleable__label {cursor: pointer;display: block;width: 100%;margin-bottom: 0;padding: 0.3em;box-sizing: border-box;text-align: center;}#sk-container-id-1 label.sk-toggleable__label-arrow:before {content: \"▸\";float: left;margin-right: 0.25em;color: #696969;}#sk-container-id-1 label.sk-toggleable__label-arrow:hover:before {color: black;}#sk-container-id-1 div.sk-estimator:hover label.sk-toggleable__label-arrow:before {color: black;}#sk-container-id-1 div.sk-toggleable__content {max-height: 0;max-width: 0;overflow: hidden;text-align: left;background-color: #f0f8ff;}#sk-container-id-1 div.sk-toggleable__content pre {margin: 0.2em;color: black;border-radius: 0.25em;background-color: #f0f8ff;}#sk-container-id-1 input.sk-toggleable__control:checked~div.sk-toggleable__content {max-height: 200px;max-width: 100%;overflow: auto;}#sk-container-id-1 input.sk-toggleable__control:checked~label.sk-toggleable__label-arrow:before {content: \"▾\";}#sk-container-id-1 div.sk-estimator input.sk-toggleable__control:checked~label.sk-toggleable__label {background-color: #d4ebff;}#sk-container-id-1 div.sk-label input.sk-toggleable__control:checked~label.sk-toggleable__label {background-color: #d4ebff;}#sk-container-id-1 input.sk-hidden--visually {border: 0;clip: rect(1px 1px 1px 1px);clip: rect(1px, 1px, 1px, 1px);height: 1px;margin: -1px;overflow: hidden;padding: 0;position: absolute;width: 1px;}#sk-container-id-1 div.sk-estimator {font-family: monospace;background-color: #f0f8ff;border: 1px dotted black;border-radius: 0.25em;box-sizing: border-box;margin-bottom: 0.5em;}#sk-container-id-1 div.sk-estimator:hover {background-color: #d4ebff;}#sk-container-id-1 div.sk-parallel-item::after {content: \"\";width: 100%;border-bottom: 1px solid gray;flex-grow: 1;}#sk-container-id-1 div.sk-label:hover label.sk-toggleable__label {background-color: #d4ebff;}#sk-container-id-1 div.sk-serial::before {content: \"\";position: absolute;border-left: 1px solid gray;box-sizing: border-box;top: 0;bottom: 0;left: 50%;z-index: 0;}#sk-container-id-1 div.sk-serial {display: flex;flex-direction: column;align-items: center;background-color: white;padding-right: 0.2em;padding-left: 0.2em;position: relative;}#sk-container-id-1 div.sk-item {position: relative;z-index: 1;}#sk-container-id-1 div.sk-parallel {display: flex;align-items: stretch;justify-content: center;background-color: white;position: relative;}#sk-container-id-1 div.sk-item::before, #sk-container-id-1 div.sk-parallel-item::before {content: \"\";position: absolute;border-left: 1px solid gray;box-sizing: border-box;top: 0;bottom: 0;left: 50%;z-index: -1;}#sk-container-id-1 div.sk-parallel-item {display: flex;flex-direction: column;z-index: 1;position: relative;background-color: white;}#sk-container-id-1 div.sk-parallel-item:first-child::after {align-self: flex-end;width: 50%;}#sk-container-id-1 div.sk-parallel-item:last-child::after {align-self: flex-start;width: 50%;}#sk-container-id-1 div.sk-parallel-item:only-child::after {width: 0;}#sk-container-id-1 div.sk-dashed-wrapped {border: 1px dashed gray;margin: 0 0.4em 0.5em 0.4em;box-sizing: border-box;padding-bottom: 0.4em;background-color: white;}#sk-container-id-1 div.sk-label label {font-family: monospace;font-weight: bold;display: inline-block;line-height: 1.2em;}#sk-container-id-1 div.sk-label-container {text-align: center;}#sk-container-id-1 div.sk-container {/* jupyter's `normalize.less` sets `[hidden] { display: none; }` but bootstrap.min.css set `[hidden] { display: none !important; }` so we also need the `!important` here to be able to override the default hidden behavior on the sphinx rendered scikit-learn.org. See: https://github.com/scikit-learn/scikit-learn/issues/21755 */display: inline-block !important;position: relative;}#sk-container-id-1 div.sk-text-repr-fallback {display: none;}</style><div id=\"sk-container-id-1\" class=\"sk-top-container\"><div class=\"sk-text-repr-fallback\"><pre>GridSearchCV(cv=5, estimator=RandomForestClassifier(),\n",
       "             param_grid={&#x27;max_depth&#x27;: [3, 6], &#x27;n_estimators&#x27;: [5, 10, 20]})</pre><b>In a Jupyter environment, please rerun this cell to show the HTML representation or trust the notebook. <br />On GitHub, the HTML representation is unable to render, please try loading this page with nbviewer.org.</b></div><div class=\"sk-container\" hidden><div class=\"sk-item sk-dashed-wrapped\"><div class=\"sk-label-container\"><div class=\"sk-label sk-toggleable\"><input class=\"sk-toggleable__control sk-hidden--visually\" id=\"sk-estimator-id-1\" type=\"checkbox\" ><label for=\"sk-estimator-id-1\" class=\"sk-toggleable__label sk-toggleable__label-arrow\">GridSearchCV</label><div class=\"sk-toggleable__content\"><pre>GridSearchCV(cv=5, estimator=RandomForestClassifier(),\n",
       "             param_grid={&#x27;max_depth&#x27;: [3, 6], &#x27;n_estimators&#x27;: [5, 10, 20]})</pre></div></div></div><div class=\"sk-parallel\"><div class=\"sk-parallel-item\"><div class=\"sk-item\"><div class=\"sk-label-container\"><div class=\"sk-label sk-toggleable\"><input class=\"sk-toggleable__control sk-hidden--visually\" id=\"sk-estimator-id-2\" type=\"checkbox\" ><label for=\"sk-estimator-id-2\" class=\"sk-toggleable__label sk-toggleable__label-arrow\">estimator: RandomForestClassifier</label><div class=\"sk-toggleable__content\"><pre>RandomForestClassifier()</pre></div></div></div><div class=\"sk-serial\"><div class=\"sk-item\"><div class=\"sk-estimator sk-toggleable\"><input class=\"sk-toggleable__control sk-hidden--visually\" id=\"sk-estimator-id-3\" type=\"checkbox\" ><label for=\"sk-estimator-id-3\" class=\"sk-toggleable__label sk-toggleable__label-arrow\">RandomForestClassifier</label><div class=\"sk-toggleable__content\"><pre>RandomForestClassifier()</pre></div></div></div></div></div></div></div></div></div></div>"
      ],
      "text/plain": [
       "GridSearchCV(cv=5, estimator=RandomForestClassifier(),\n",
       "             param_grid={'max_depth': [3, 6], 'n_estimators': [5, 10, 20]})"
      ]
     },
     "execution_count": 23,
     "metadata": {},
     "output_type": "execute_result"
    }
   ],
   "source": [
    "# using normal data\n",
    "\n",
    "from sklearn.ensemble import RandomForestClassifier\n",
    "from sklearn.model_selection import GridSearchCV\n",
    "\n",
    "param_grid = {\n",
    "    'n_estimators': [5, 10, 20],\n",
    "    'max_depth': [3, 6]\n",
    "}\n",
    "\n",
    "rf = RandomForestClassifier()\n",
    "grid_clf = GridSearchCV(rf, param_grid, cv=5)\n",
    "grid_clf.fit(features_train, target_train)"
   ]
  },
  {
   "cell_type": "code",
   "execution_count": 24,
   "id": "b2f66e3a",
   "metadata": {
    "execution": {
     "iopub.execute_input": "2023-07-09T12:29:37.949317Z",
     "iopub.status.busy": "2023-07-09T12:29:37.948888Z",
     "iopub.status.idle": "2023-07-09T12:29:37.956907Z",
     "shell.execute_reply": "2023-07-09T12:29:37.955798Z"
    },
    "papermill": {
     "duration": 0.038674,
     "end_time": "2023-07-09T12:29:37.959299",
     "exception": false,
     "start_time": "2023-07-09T12:29:37.920625",
     "status": "completed"
    },
    "tags": []
   },
   "outputs": [
    {
     "data": {
      "text/plain": [
       "{'max_depth': 6, 'n_estimators': 10}"
      ]
     },
     "execution_count": 24,
     "metadata": {},
     "output_type": "execute_result"
    }
   ],
   "source": [
    "#grid_clf.best_estimator_\n",
    "grid_clf.best_params_\n",
    "#grid_clf.cv_results_"
   ]
  },
  {
   "cell_type": "code",
   "execution_count": 25,
   "id": "9fbbfc60",
   "metadata": {
    "execution": {
     "iopub.execute_input": "2023-07-09T12:29:37.998235Z",
     "iopub.status.busy": "2023-07-09T12:29:37.997829Z",
     "iopub.status.idle": "2023-07-09T12:29:48.741173Z",
     "shell.execute_reply": "2023-07-09T12:29:48.739594Z"
    },
    "papermill": {
     "duration": 10.765934,
     "end_time": "2023-07-09T12:29:48.743812",
     "exception": false,
     "start_time": "2023-07-09T12:29:37.977878",
     "status": "completed"
    },
    "tags": []
   },
   "outputs": [
    {
     "name": "stderr",
     "output_type": "stream",
     "text": [
      "[Parallel(n_jobs=1)]: Using backend SequentialBackend with 1 concurrent workers.\n"
     ]
    },
    {
     "name": "stdout",
     "output_type": "stream",
     "text": [
      "building tree 1 of 10\n"
     ]
    },
    {
     "name": "stderr",
     "output_type": "stream",
     "text": [
      "[Parallel(n_jobs=1)]: Done   1 out of   1 | elapsed:    1.2s remaining:    0.0s\n"
     ]
    },
    {
     "name": "stdout",
     "output_type": "stream",
     "text": [
      "building tree 2 of 10\n",
      "building tree 3 of 10\n",
      "building tree 4 of 10\n",
      "building tree 5 of 10\n",
      "building tree 6 of 10\n",
      "building tree 7 of 10\n",
      "building tree 8 of 10\n",
      "building tree 9 of 10\n",
      "building tree 10 of 10\n"
     ]
    },
    {
     "name": "stderr",
     "output_type": "stream",
     "text": [
      "[Parallel(n_jobs=1)]: Done  10 out of  10 | elapsed:   10.6s finished\n",
      "[Parallel(n_jobs=1)]: Using backend SequentialBackend with 1 concurrent workers.\n",
      "[Parallel(n_jobs=1)]: Done   1 out of   1 | elapsed:    0.0s remaining:    0.0s\n",
      "[Parallel(n_jobs=1)]: Done  10 out of  10 | elapsed:    0.0s finished\n"
     ]
    },
    {
     "data": {
      "text/plain": [
       "0.725"
      ]
     },
     "execution_count": 25,
     "metadata": {},
     "output_type": "execute_result"
    }
   ],
   "source": [
    "# model fit 'max_depth': 6, 'n_estimators': 10\n",
    "\n",
    "\n",
    "rf = RandomForestClassifier(max_depth=6, n_estimators=10, verbose=2)\n",
    "rf.fit(features_train, target_train)\n",
    "rf_predict = rf.predict(features_test)\n",
    "\n",
    "recall_score(target_test, rf_predict)"
   ]
  },
  {
   "cell_type": "code",
   "execution_count": 26,
   "id": "a449950a",
   "metadata": {
    "execution": {
     "iopub.execute_input": "2023-07-09T12:29:48.787472Z",
     "iopub.status.busy": "2023-07-09T12:29:48.787005Z",
     "iopub.status.idle": "2023-07-09T12:29:49.095225Z",
     "shell.execute_reply": "2023-07-09T12:29:49.093814Z"
    },
    "papermill": {
     "duration": 0.333273,
     "end_time": "2023-07-09T12:29:49.098178",
     "exception": false,
     "start_time": "2023-07-09T12:29:48.764905",
     "status": "completed"
    },
    "tags": []
   },
   "outputs": [
    {
     "data": {
      "image/png": "[encoded data removed]",
      "text/plain": [
       "<Figure size 640x480 with 2 Axes>"
      ]
     },
     "metadata": {},
     "output_type": "display_data"
    }
   ],
   "source": [
    "conf = confusion_matrix(target_test, rf_predict)\n",
    "\n",
    "cm_display = ConfusionMatrixDisplay(confusion_matrix = conf, display_labels = [False, True])\n",
    "\n",
    "cm_display.plot()\n",
    "plt.show() "
   ]
  },
  {
   "cell_type": "markdown",
   "id": "fa0966e8",
   "metadata": {
    "papermill": {
     "duration": 0.020238,
     "end_time": "2023-07-09T12:29:49.138920",
     "exception": false,
     "start_time": "2023-07-09T12:29:49.118682",
     "status": "completed"
    },
    "tags": []
   },
   "source": [
    "Slightly better than LR without downsample"
   ]
  },
  {
   "cell_type": "markdown",
   "id": "93279aa7",
   "metadata": {
    "papermill": {
     "duration": 0.021198,
     "end_time": "2023-07-09T12:29:49.180593",
     "exception": false,
     "start_time": "2023-07-09T12:29:49.159395",
     "status": "completed"
    },
    "tags": []
   },
   "source": [
    "## Using downsampled data"
   ]
  },
  {
   "cell_type": "code",
   "execution_count": 27,
   "id": "c7603584",
   "metadata": {
    "execution": {
     "iopub.execute_input": "2023-07-09T12:29:49.225187Z",
     "iopub.status.busy": "2023-07-09T12:29:49.224765Z",
     "iopub.status.idle": "2023-07-09T12:29:50.692540Z",
     "shell.execute_reply": "2023-07-09T12:29:50.690977Z"
    },
    "papermill": {
     "duration": 1.493028,
     "end_time": "2023-07-09T12:29:50.695681",
     "exception": false,
     "start_time": "2023-07-09T12:29:49.202653",
     "status": "completed"
    },
    "tags": []
   },
   "outputs": [
    {
     "data": {
      "text/html": [
       "<style>#sk-container-id-2 {color: black;background-color: white;}#sk-container-id-2 pre{padding: 0;}#sk-container-id-2 div.sk-toggleable {background-color: white;}#sk-container-id-2 label.sk-toggleable__label {cursor: pointer;display: block;width: 100%;margin-bottom: 0;padding: 0.3em;box-sizing: border-box;text-align: center;}#sk-container-id-2 label.sk-toggleable__label-arrow:before {content: \"▸\";float: left;margin-right: 0.25em;color: #696969;}#sk-container-id-2 label.sk-toggleable__label-arrow:hover:before {color: black;}#sk-container-id-2 div.sk-estimator:hover label.sk-toggleable__label-arrow:before {color: black;}#sk-container-id-2 div.sk-toggleable__content {max-height: 0;max-width: 0;overflow: hidden;text-align: left;background-color: #f0f8ff;}#sk-container-id-2 div.sk-toggleable__content pre {margin: 0.2em;color: black;border-radius: 0.25em;background-color: #f0f8ff;}#sk-container-id-2 input.sk-toggleable__control:checked~div.sk-toggleable__content {max-height: 200px;max-width: 100%;overflow: auto;}#sk-container-id-2 input.sk-toggleable__control:checked~label.sk-toggleable__label-arrow:before {content: \"▾\";}#sk-container-id-2 div.sk-estimator input.sk-toggleable__control:checked~label.sk-toggleable__label {background-color: #d4ebff;}#sk-container-id-2 div.sk-label input.sk-toggleable__control:checked~label.sk-toggleable__label {background-color: #d4ebff;}#sk-container-id-2 input.sk-hidden--visually {border: 0;clip: rect(1px 1px 1px 1px);clip: rect(1px, 1px, 1px, 1px);height: 1px;margin: -1px;overflow: hidden;padding: 0;position: absolute;width: 1px;}#sk-container-id-2 div.sk-estimator {font-family: monospace;background-color: #f0f8ff;border: 1px dotted black;border-radius: 0.25em;box-sizing: border-box;margin-bottom: 0.5em;}#sk-container-id-2 div.sk-estimator:hover {background-color: #d4ebff;}#sk-container-id-2 div.sk-parallel-item::after {content: \"\";width: 100%;border-bottom: 1px solid gray;flex-grow: 1;}#sk-container-id-2 div.sk-label:hover label.sk-toggleable__label {background-color: #d4ebff;}#sk-container-id-2 div.sk-serial::before {content: \"\";position: absolute;border-left: 1px solid gray;box-sizing: border-box;top: 0;bottom: 0;left: 50%;z-index: 0;}#sk-container-id-2 div.sk-serial {display: flex;flex-direction: column;align-items: center;background-color: white;padding-right: 0.2em;padding-left: 0.2em;position: relative;}#sk-container-id-2 div.sk-item {position: relative;z-index: 1;}#sk-container-id-2 div.sk-parallel {display: flex;align-items: stretch;justify-content: center;background-color: white;position: relative;}#sk-container-id-2 div.sk-item::before, #sk-container-id-2 div.sk-parallel-item::before {content: \"\";position: absolute;border-left: 1px solid gray;box-sizing: border-box;top: 0;bottom: 0;left: 50%;z-index: -1;}#sk-container-id-2 div.sk-parallel-item {display: flex;flex-direction: column;z-index: 1;position: relative;background-color: white;}#sk-container-id-2 div.sk-parallel-item:first-child::after {align-self: flex-end;width: 50%;}#sk-container-id-2 div.sk-parallel-item:last-child::after {align-self: flex-start;width: 50%;}#sk-container-id-2 div.sk-parallel-item:only-child::after {width: 0;}#sk-container-id-2 div.sk-dashed-wrapped {border: 1px dashed gray;margin: 0 0.4em 0.5em 0.4em;box-sizing: border-box;padding-bottom: 0.4em;background-color: white;}#sk-container-id-2 div.sk-label label {font-family: monospace;font-weight: bold;display: inline-block;line-height: 1.2em;}#sk-container-id-2 div.sk-label-container {text-align: center;}#sk-container-id-2 div.sk-container {/* jupyter's `normalize.less` sets `[hidden] { display: none; }` but bootstrap.min.css set `[hidden] { display: none !important; }` so we also need the `!important` here to be able to override the default hidden behavior on the sphinx rendered scikit-learn.org. See: https://github.com/scikit-learn/scikit-learn/issues/21755 */display: inline-block !important;position: relative;}#sk-container-id-2 div.sk-text-repr-fallback {display: none;}</style><div id=\"sk-container-id-2\" class=\"sk-top-container\"><div class=\"sk-text-repr-fallback\"><pre>GridSearchCV(cv=5, estimator=RandomForestClassifier(),\n",
       "             param_grid={&#x27;max_depth&#x27;: [3, 6], &#x27;n_estimators&#x27;: [5, 10, 20]})</pre><b>In a Jupyter environment, please rerun this cell to show the HTML representation or trust the notebook. <br />On GitHub, the HTML representation is unable to render, please try loading this page with nbviewer.org.</b></div><div class=\"sk-container\" hidden><div class=\"sk-item sk-dashed-wrapped\"><div class=\"sk-label-container\"><div class=\"sk-label sk-toggleable\"><input class=\"sk-toggleable__control sk-hidden--visually\" id=\"sk-estimator-id-4\" type=\"checkbox\" ><label for=\"sk-estimator-id-4\" class=\"sk-toggleable__label sk-toggleable__label-arrow\">GridSearchCV</label><div class=\"sk-toggleable__content\"><pre>GridSearchCV(cv=5, estimator=RandomForestClassifier(),\n",
       "             param_grid={&#x27;max_depth&#x27;: [3, 6], &#x27;n_estimators&#x27;: [5, 10, 20]})</pre></div></div></div><div class=\"sk-parallel\"><div class=\"sk-parallel-item\"><div class=\"sk-item\"><div class=\"sk-label-container\"><div class=\"sk-label sk-toggleable\"><input class=\"sk-toggleable__control sk-hidden--visually\" id=\"sk-estimator-id-5\" type=\"checkbox\" ><label for=\"sk-estimator-id-5\" class=\"sk-toggleable__label sk-toggleable__label-arrow\">estimator: RandomForestClassifier</label><div class=\"sk-toggleable__content\"><pre>RandomForestClassifier()</pre></div></div></div><div class=\"sk-serial\"><div class=\"sk-item\"><div class=\"sk-estimator sk-toggleable\"><input class=\"sk-toggleable__control sk-hidden--visually\" id=\"sk-estimator-id-6\" type=\"checkbox\" ><label for=\"sk-estimator-id-6\" class=\"sk-toggleable__label sk-toggleable__label-arrow\">RandomForestClassifier</label><div class=\"sk-toggleable__content\"><pre>RandomForestClassifier()</pre></div></div></div></div></div></div></div></div></div></div>"
      ],
      "text/plain": [
       "GridSearchCV(cv=5, estimator=RandomForestClassifier(),\n",
       "             param_grid={'max_depth': [3, 6], 'n_estimators': [5, 10, 20]})"
      ]
     },
     "execution_count": 27,
     "metadata": {},
     "output_type": "execute_result"
    }
   ],
   "source": [
    "# rf using downsampled data\n",
    "\n",
    "rf = RandomForestClassifier()\n",
    "grid_clf = GridSearchCV(rf, param_grid, cv=5)\n",
    "grid_clf.fit(features_train_down, target_train_down)"
   ]
  },
  {
   "cell_type": "code",
   "execution_count": 28,
   "id": "d6b14a63",
   "metadata": {
    "execution": {
     "iopub.execute_input": "2023-07-09T12:29:50.742529Z",
     "iopub.status.busy": "2023-07-09T12:29:50.741172Z",
     "iopub.status.idle": "2023-07-09T12:29:50.749734Z",
     "shell.execute_reply": "2023-07-09T12:29:50.748549Z"
    },
    "papermill": {
     "duration": 0.034092,
     "end_time": "2023-07-09T12:29:50.752202",
     "exception": false,
     "start_time": "2023-07-09T12:29:50.718110",
     "status": "completed"
    },
    "tags": []
   },
   "outputs": [
    {
     "data": {
      "text/plain": [
       "{'max_depth': 3, 'n_estimators': 10}"
      ]
     },
     "execution_count": 28,
     "metadata": {},
     "output_type": "execute_result"
    }
   ],
   "source": [
    "grid_clf.best_params_"
   ]
  },
  {
   "cell_type": "code",
   "execution_count": 29,
   "id": "4c203d26",
   "metadata": {
    "execution": {
     "iopub.execute_input": "2023-07-09T12:29:50.797574Z",
     "iopub.status.busy": "2023-07-09T12:29:50.797132Z",
     "iopub.status.idle": "2023-07-09T12:29:50.859007Z",
     "shell.execute_reply": "2023-07-09T12:29:50.857188Z"
    },
    "papermill": {
     "duration": 0.088114,
     "end_time": "2023-07-09T12:29:50.861931",
     "exception": false,
     "start_time": "2023-07-09T12:29:50.773817",
     "status": "completed"
    },
    "tags": []
   },
   "outputs": [
    {
     "name": "stdout",
     "output_type": "stream",
     "text": [
      "building tree 1 of 10\n",
      "building tree 2 of 10\n",
      "building tree 3 of 10\n",
      "building tree 4 of 10\n",
      "building tree 5 of 10\n",
      "building tree 6 of 10\n",
      "building tree 7 of 10\n",
      "building tree 8 of 10\n",
      "building tree 9 of 10\n",
      "building tree 10 of 10\n"
     ]
    },
    {
     "name": "stderr",
     "output_type": "stream",
     "text": [
      "[Parallel(n_jobs=1)]: Using backend SequentialBackend with 1 concurrent workers.\n",
      "[Parallel(n_jobs=1)]: Done   1 out of   1 | elapsed:    0.0s remaining:    0.0s\n",
      "[Parallel(n_jobs=1)]: Done  10 out of  10 | elapsed:    0.0s finished\n",
      "[Parallel(n_jobs=1)]: Using backend SequentialBackend with 1 concurrent workers.\n",
      "[Parallel(n_jobs=1)]: Done   1 out of   1 | elapsed:    0.0s remaining:    0.0s\n",
      "[Parallel(n_jobs=1)]: Done  10 out of  10 | elapsed:    0.0s finished\n"
     ]
    },
    {
     "data": {
      "text/plain": [
       "0.8991596638655462"
      ]
     },
     "execution_count": 29,
     "metadata": {},
     "output_type": "execute_result"
    }
   ],
   "source": [
    "rf = RandomForestClassifier(max_depth=6, n_estimators=10, verbose=2)\n",
    "rf.fit(features_train_down, target_train_down)\n",
    "rf_predict = rf.predict(features_test_down)\n",
    "\n",
    "recall_score(target_test_down, rf_predict)"
   ]
  },
  {
   "cell_type": "code",
   "execution_count": 30,
   "id": "c9d1b8c8",
   "metadata": {
    "execution": {
     "iopub.execute_input": "2023-07-09T12:29:50.909963Z",
     "iopub.status.busy": "2023-07-09T12:29:50.908601Z",
     "iopub.status.idle": "2023-07-09T12:29:51.207135Z",
     "shell.execute_reply": "2023-07-09T12:29:51.205670Z"
    },
    "papermill": {
     "duration": 0.325448,
     "end_time": "2023-07-09T12:29:51.209856",
     "exception": false,
     "start_time": "2023-07-09T12:29:50.884408",
     "status": "completed"
    },
    "tags": []
   },
   "outputs": [
    {
     "data": {
      "image/png": "[encoded data removed]",
      "text/plain": [
       "<Figure size 640x480 with 2 Axes>"
      ]
     },
     "metadata": {},
     "output_type": "display_data"
    }
   ],
   "source": [
    "conf = confusion_matrix(target_test_down, rf_predict)\n",
    "\n",
    "cm_display = ConfusionMatrixDisplay(confusion_matrix = conf, display_labels = [False, True])\n",
    "\n",
    "cm_display.plot()\n",
    "plt.show() "
   ]
  },
  {
   "cell_type": "markdown",
   "id": "f8a7e17a",
   "metadata": {
    "papermill": {
     "duration": 0.021463,
     "end_time": "2023-07-09T12:29:51.253927",
     "exception": false,
     "start_time": "2023-07-09T12:29:51.232464",
     "status": "completed"
    },
    "tags": []
   },
   "source": [
    "# XGBoost"
   ]
  },
  {
   "cell_type": "markdown",
   "id": "eee0059a",
   "metadata": {
    "papermill": {
     "duration": 0.021068,
     "end_time": "2023-07-09T12:29:51.296645",
     "exception": false,
     "start_time": "2023-07-09T12:29:51.275577",
     "status": "completed"
    },
    "tags": []
   },
   "source": [
    "## Using normal data"
   ]
  },
  {
   "cell_type": "code",
   "execution_count": 31,
   "id": "e4e94533",
   "metadata": {
    "execution": {
     "iopub.execute_input": "2023-07-09T12:29:51.342774Z",
     "iopub.status.busy": "2023-07-09T12:29:51.342324Z",
     "iopub.status.idle": "2023-07-09T12:30:51.847126Z",
     "shell.execute_reply": "2023-07-09T12:30:51.845969Z"
    },
    "papermill": {
     "duration": 60.552307,
     "end_time": "2023-07-09T12:30:51.870854",
     "exception": false,
     "start_time": "2023-07-09T12:29:51.318547",
     "status": "completed"
    },
    "tags": []
   },
   "outputs": [
    {
     "data": {
      "text/plain": [
       "0.8"
      ]
     },
     "execution_count": 31,
     "metadata": {},
     "output_type": "execute_result"
    }
   ],
   "source": [
    "from xgboost import XGBClassifier\n",
    "\n",
    "xgb = XGBClassifier()\n",
    "xgb.fit(features_train, target_train)\n",
    "xgb_predict = xgb.predict(features_test)\n",
    "\n",
    "recall_score(target_test, xgb_predict)\n"
   ]
  },
  {
   "cell_type": "code",
   "execution_count": 32,
   "id": "2ef5b1cf",
   "metadata": {
    "execution": {
     "iopub.execute_input": "2023-07-09T12:30:51.917802Z",
     "iopub.status.busy": "2023-07-09T12:30:51.917371Z",
     "iopub.status.idle": "2023-07-09T12:30:52.236224Z",
     "shell.execute_reply": "2023-07-09T12:30:52.234740Z"
    },
    "papermill": {
     "duration": 0.345779,
     "end_time": "2023-07-09T12:30:52.239116",
     "exception": false,
     "start_time": "2023-07-09T12:30:51.893337",
     "status": "completed"
    },
    "tags": []
   },
   "outputs": [
    {
     "data": {
      "image/png": "[encoded data removed]",
      "text/plain": [
       "<Figure size 640x480 with 2 Axes>"
      ]
     },
     "metadata": {},
     "output_type": "display_data"
    }
   ],
   "source": [
    "conf = confusion_matrix(target_test, xgb_predict)\n",
    "\n",
    "cm_display = ConfusionMatrixDisplay(confusion_matrix = conf, display_labels = [False, True])\n",
    "\n",
    "cm_display.plot()\n",
    "plt.show() "
   ]
  },
  {
   "cell_type": "markdown",
   "id": "238078b7",
   "metadata": {
    "papermill": {
     "duration": 0.021775,
     "end_time": "2023-07-09T12:30:52.283305",
     "exception": false,
     "start_time": "2023-07-09T12:30:52.261530",
     "status": "completed"
    },
    "tags": []
   },
   "source": [
    "This model has best recall score and True Negative score of all the other model without downsample"
   ]
  },
  {
   "cell_type": "markdown",
   "id": "bb55c254",
   "metadata": {
    "papermill": {
     "duration": 0.021719,
     "end_time": "2023-07-09T12:30:52.327305",
     "exception": false,
     "start_time": "2023-07-09T12:30:52.305586",
     "status": "completed"
    },
    "tags": []
   },
   "source": [
    "## Using downsampled data"
   ]
  },
  {
   "cell_type": "code",
   "execution_count": 33,
   "id": "7a1cb8b5",
   "metadata": {
    "execution": {
     "iopub.execute_input": "2023-07-09T12:30:52.373870Z",
     "iopub.status.busy": "2023-07-09T12:30:52.373436Z",
     "iopub.status.idle": "2023-07-09T12:30:52.569400Z",
     "shell.execute_reply": "2023-07-09T12:30:52.568187Z"
    },
    "papermill": {
     "duration": 0.222589,
     "end_time": "2023-07-09T12:30:52.572229",
     "exception": false,
     "start_time": "2023-07-09T12:30:52.349640",
     "status": "completed"
    },
    "tags": []
   },
   "outputs": [
    {
     "data": {
      "text/plain": [
       "0.9495798319327731"
      ]
     },
     "execution_count": 33,
     "metadata": {},
     "output_type": "execute_result"
    }
   ],
   "source": [
    "xgb = XGBClassifier()\n",
    "xgb.fit(features_train_down, target_train_down)\n",
    "xgb_predict = xgb.predict(features_test_down)\n",
    "\n",
    "recall_score(target_test_down, xgb_predict)"
   ]
  },
  {
   "cell_type": "code",
   "execution_count": 34,
   "id": "9d2f25eb",
   "metadata": {
    "execution": {
     "iopub.execute_input": "2023-07-09T12:30:52.620180Z",
     "iopub.status.busy": "2023-07-09T12:30:52.619686Z",
     "iopub.status.idle": "2023-07-09T12:30:52.919529Z",
     "shell.execute_reply": "2023-07-09T12:30:52.918225Z"
    },
    "papermill": {
     "duration": 0.327188,
     "end_time": "2023-07-09T12:30:52.922555",
     "exception": false,
     "start_time": "2023-07-09T12:30:52.595367",
     "status": "completed"
    },
    "tags": []
   },
   "outputs": [
    {
     "data": {
      "image/png": "[encoded data removed]",
      "text/plain": [
       "<Figure size 640x480 with 2 Axes>"
      ]
     },
     "metadata": {},
     "output_type": "display_data"
    }
   ],
   "source": [
    "conf = confusion_matrix(target_test_down, xgb_predict)\n",
    "\n",
    "cm_display = ConfusionMatrixDisplay(confusion_matrix = conf, display_labels = [False, True])\n",
    "\n",
    "cm_display.plot()\n",
    "plt.show() "
   ]
  },
  {
   "cell_type": "code",
   "execution_count": null,
   "id": "b9344cb9",
   "metadata": {
    "papermill": {
     "duration": 0.022878,
     "end_time": "2023-07-09T12:30:53.113939",
     "exception": false,
     "start_time": "2023-07-09T12:30:53.091061",
     "status": "completed"
    },
    "tags": []
   },
   "outputs": [],
   "source": []
  }
 ],
 "metadata": {
  "kernelspec": {
   "display_name": "Python 3 (ipykernel)",
   "language": "python",
   "name": "python3"
  },
  "language_info": {
   "codemirror_mode": {
    "name": "ipython",
    "version": 3
   },
   "file_extension": ".py",
   "mimetype": "text/x-python",
   "name": "python",
   "nbconvert_exporter": "python",
   "pygments_lexer": "ipython3",
   "version": "3.9.12"
  },
  "papermill": {
   "default_parameters": {},
   "duration": 345.254798,
   "end_time": "2023-07-09T12:30:54.363888",
   "environment_variables": {},
   "exception": null,
   "input_path": "__notebook__.ipynb",
   "output_path": "__notebook__.ipynb",
   "parameters": {},
   "start_time": "2023-07-09T12:25:09.109090",
   "version": "2.4.0"
  }
 },
 "nbformat": 4,
 "nbformat_minor": 5
}
